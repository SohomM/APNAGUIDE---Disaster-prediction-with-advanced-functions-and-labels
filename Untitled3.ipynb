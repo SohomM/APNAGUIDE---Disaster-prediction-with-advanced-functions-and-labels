{
 "cells": [
  {
   "cell_type": "raw",
   "id": "a60b099a",
   "metadata": {},
   "source": [
    "DISASTER PREDICTION"
   ]
  },
  {
   "cell_type": "code",
   "execution_count": null,
   "id": "2295d1ef",
   "metadata": {},
   "outputs": [],
   "source": [
    "import pandas as pd\n",
    "from sklearn.model_selection import train_test_split\n",
    "from sklearn.svm import SVC\n",
    "from sklearn.metrics import accuracy_score, classification_report, confusion_matrix\n",
    "import matplotlib.pyplot as plt\n"
   ]
  },
  {
   "cell_type": "code",
   "execution_count": null,
   "id": "3e19f4cc",
   "metadata": {},
   "outputs": [],
   "source": [
    "# Load data\n",
    "data = pd.read_csv('earthquake_data.csv')\n",
    "\n",
    "# Separate features (X) and target variable (y)\n",
    "X = data.drop('Earthquake', axis=1)\n",
    "y = data['Earthquake']\n",
    "\n",
    "# Split data into training and testing sets\n",
    "X_train, X_test, y_train, y_test = train_test_split(X, y, test_size=0.2, random_state=42)\n"
   ]
  },
  {
   "cell_type": "code",
   "execution_count": null,
   "id": "c150ac0e",
   "metadata": {},
   "outputs": [],
   "source": [
    "# Initialize the model\n",
    "model = SVC(kernel='rbf', random_state=42)\n",
    "\n",
    "# Train the model\n",
    "model.fit(X_train, y_train)\n"
   ]
  },
  {
   "cell_type": "code",
   "execution_count": null,
   "id": "e288fe81",
   "metadata": {},
   "outputs": [],
   "source": [
    "# Make predictions\n",
    "y_pred = model.predict(X_test)\n",
    "\n",
    "# Calculate metrics\n",
    "accuracy = accuracy_score(y_test, y_pred)\n",
    "report = classification_report(y_test, y_pred)\n",
    "conf_matrix = confusion_matrix(y_test, y_pred)\n",
    "\n",
    "print(f'Accuracy: {accuracy:.2f}')\n",
    "print(f'Classification Report:\\n{report}')\n",
    "print(f'Confusion Matrix:\\n{conf_matrix}')\n"
   ]
  },
  {
   "cell_type": "code",
   "execution_count": null,
   "id": "97f2dedc",
   "metadata": {},
   "outputs": [],
   "source": [
    "# Plot confusion matrix\n",
    "plt.figure(figsize=(8, 6))\n",
    "plt.imshow(conf_matrix, cmap='Blues', interpolation='nearest')\n",
    "plt.colorbar()\n",
    "plt.title('Confusion Matrix')\n",
    "plt.xlabel('Predicted')\n",
    "plt.ylabel('Actual')\n",
    "plt.xticks([0, 1], ['No Earthquake', 'Earthquake'])\n",
    "plt.yticks([0, 1], ['No Earthquake', 'Earthquake'])\n",
    "plt.show()\n"
   ]
  },
  {
   "cell_type": "code",
   "execution_count": null,
   "id": "d5b71453",
   "metadata": {},
   "outputs": [],
   "source": [
    "# Example prediction\n",
    "new_data = [[0.5, 0.2, 0.7, 0.9]]  # Example values for seismic features\n",
    "predicted_class = model.predict(new_data)\n",
    "if predicted_class[0] == 1:\n",
    "    print('Prediction: Earthquake')\n",
    "else:\n",
    "    print('Prediction: No Earthquake')\n"
   ]
  }
 ],
 "metadata": {
  "kernelspec": {
   "display_name": "Python 3 (ipykernel)",
   "language": "python",
   "name": "python3"
  },
  "language_info": {
   "codemirror_mode": {
    "name": "ipython",
    "version": 3
   },
   "file_extension": ".py",
   "mimetype": "text/x-python",
   "name": "python",
   "nbconvert_exporter": "python",
   "pygments_lexer": "ipython3",
   "version": "3.11.7"
  }
 },
 "nbformat": 4,
 "nbformat_minor": 5
}
